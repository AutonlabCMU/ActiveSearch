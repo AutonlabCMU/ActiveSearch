{
 "cells": [
  {
   "cell_type": "code",
   "execution_count": 1,
   "metadata": {
    "collapsed": true
   },
   "outputs": [],
   "source": [
    "from __future__ import division\n",
    "import numpy as np, numpy.random as nr, numpy.linalg as nlg\n",
    "import scipy as sp, scipy.linalg as slg, scipy.io as sio, scipy.sparse as ss\n",
    "# import matplotlib.pyplot as plt\n",
    "\n",
    "from multiprocessing import Pool\n",
    "\n",
    "import time\n",
    "import os, os.path as osp\n",
    "import csv\n",
    "import cPickle as pick\n",
    "# import sqlparse as sql\n",
    "\n",
    "import activeSearchInterface as ASI\n",
    "import competitorsInterface as CI\n",
    "\n",
    "import data_utils as du\n",
    "import graph_utils as gu\n",
    "import gaussianRandomFeatures as GRF\n",
    "\n",
    "import lapsvmp as LapSVM\n",
    "import anchorGraph as AG\n",
    "\n",
    "import IPython\n"
   ]
  },
  {
   "cell_type": "code",
   "execution_count": 105,
   "metadata": {
    "collapsed": false
   },
   "outputs": [
    {
     "ename": "NameError",
     "evalue": "name 'bias_normalize_ft' is not defined",
     "output_type": "error",
     "traceback": [
      "\u001b[0;31m---------------------------------------------------------------------------\u001b[0m",
      "\u001b[0;31mNameError\u001b[0m                                 Traceback (most recent call last)",
      "\u001b[0;32m<ipython-input-105-68966b243609>\u001b[0m in \u001b[0;36m<module>\u001b[0;34m()\u001b[0m\n\u001b[1;32m      1\u001b[0m \u001b[0mt1\u001b[0m \u001b[0;34m=\u001b[0m \u001b[0mtime\u001b[0m\u001b[0;34m.\u001b[0m\u001b[0mtime\u001b[0m\u001b[0;34m(\u001b[0m\u001b[0;34m)\u001b[0m\u001b[0;34m\u001b[0m\u001b[0m\n\u001b[1;32m      2\u001b[0m \u001b[0mX0\u001b[0m\u001b[0;34m,\u001b[0m\u001b[0mY0\u001b[0m\u001b[0;34m,\u001b[0m\u001b[0mclasses\u001b[0m \u001b[0;34m=\u001b[0m \u001b[0mdu\u001b[0m\u001b[0;34m.\u001b[0m\u001b[0mload_covertype\u001b[0m\u001b[0;34m(\u001b[0m\u001b[0msparse\u001b[0m\u001b[0;34m=\u001b[0m\u001b[0mTrue\u001b[0m\u001b[0;34m,\u001b[0m \u001b[0mnormalize\u001b[0m\u001b[0;34m=\u001b[0m\u001b[0mFalse\u001b[0m\u001b[0;34m)\u001b[0m\u001b[0;34m\u001b[0m\u001b[0m\n\u001b[0;32m----> 3\u001b[0;31m \u001b[0mX1\u001b[0m \u001b[0;34m=\u001b[0m \u001b[0mbias_normalize_ft\u001b[0m \u001b[0;34m(\u001b[0m\u001b[0mX0\u001b[0m\u001b[0;34m,\u001b[0m \u001b[0msparse\u001b[0m\u001b[0;34m=\u001b[0m\u001b[0mTrue\u001b[0m\u001b[0;34m)\u001b[0m\u001b[0;34m.\u001b[0m\u001b[0mtodense\u001b[0m\u001b[0;34m(\u001b[0m\u001b[0;34m)\u001b[0m\u001b[0;34m\u001b[0m\u001b[0m\n\u001b[0m\u001b[1;32m      4\u001b[0m \u001b[0;32mprint\u001b[0m\u001b[0;34m(\u001b[0m\u001b[0mtime\u001b[0m\u001b[0;34m.\u001b[0m\u001b[0mtime\u001b[0m\u001b[0;34m(\u001b[0m\u001b[0;34m)\u001b[0m \u001b[0;34m-\u001b[0m \u001b[0mt1\u001b[0m\u001b[0;34m)\u001b[0m\u001b[0;34m\u001b[0m\u001b[0m\n",
      "\u001b[0;31mNameError\u001b[0m: name 'bias_normalize_ft' is not defined"
     ]
    }
   ],
   "source": [
    "t1 = time.time()\n",
    "X0,Y0,classes = du.load_covertype(sparse=True, normalize=False)\n",
    "print(time.time() - t1)"
   ]
  },
  {
   "cell_type": "code",
   "execution_count": 111,
   "metadata": {
    "collapsed": true
   },
   "outputs": [],
   "source": [
    "X1 = du.matrix_squeeze(du.bias_normalize_ft (X0, sparse=True).todense())\n"
   ]
  },
  {
   "cell_type": "code",
   "execution_count": 145,
   "metadata": {
    "collapsed": true
   },
   "outputs": [],
   "source": [
    "Xd = du.matrix_squeeze(X0.todense())"
   ]
  },
  {
   "cell_type": "code",
   "execution_count": 146,
   "metadata": {
    "collapsed": false
   },
   "outputs": [],
   "source": [
    "Xw, W = du.whiten_data(Xd, sparse=False, rtn_W=True, thresh=1e-6)"
   ]
  },
  {
   "cell_type": "code",
   "execution_count": 147,
   "metadata": {
    "collapsed": false
   },
   "outputs": [
    {
     "data": {
      "text/plain": [
       "-9.2478119768202305e-05"
      ]
     },
     "execution_count": 147,
     "metadata": {},
     "output_type": "execute_result"
    }
   ],
   "source": [
    "np.min(Xw.dot(Xw.T)-np.eye(52)*581012.)"
   ]
  },
  {
   "cell_type": "code",
   "execution_count": 186,
   "metadata": {
    "collapsed": false
   },
   "outputs": [],
   "source": [
    "gammak1=1\n",
    "# rfc1 = GRF.GaussianRandomFeatures(X1.shape[0], X1.shape[0]*10, gammak=gammak1)\n",
    "gammak2=10\n",
    "rfc2 = GRF.GaussianRandomFeatures(Xw.shape[0], Xw.shape[0]*10, gammak=gammak2)"
   ]
  },
  {
   "cell_type": "code",
   "execution_count": 174,
   "metadata": {
    "collapsed": true
   },
   "outputs": [],
   "source": [
    "# X2, Y2 = du.stratified_sample(X0, Y0, classes=[0,1], strat_frac=0.1, return_inds=False)\n",
    "X2, Y2 = X1, Y0"
   ]
  },
  {
   "cell_type": "code",
   "execution_count": 187,
   "metadata": {
    "collapsed": false
   },
   "outputs": [
    {
     "name": "stdout",
     "output_type": "stream",
     "text": [
      "17.9132378101\n"
     ]
    }
   ],
   "source": [
    "t1 = time.time()\n",
    "# RX2 = rfc1.computeRandomFeatures(X2.T).T\n",
    "RX3 = rfc2.computeRandomFeatures(Xw.T).T\n",
    "print(time.time() - t1)"
   ]
  },
  {
   "cell_type": "code",
   "execution_count": 188,
   "metadata": {
    "collapsed": false
   },
   "outputs": [
    {
     "name": "stdout",
     "output_type": "stream",
     "text": [
      "1.63427637131e-32\n",
      "-0.000275878355976\n"
     ]
    }
   ],
   "source": [
    "i1, i2 = 2012, 1988\n",
    "print np.exp(-gammak2*nlg.norm(Xw[:,i1]-Xw[:,i2])**2)\n",
    "print RX3[:,i1].T.dot(RX3[:,i2])"
   ]
  },
  {
   "cell_type": "code",
   "execution_count": 196,
   "metadata": {
    "collapsed": false
   },
   "outputs": [],
   "source": [
    "rfc.SaveToFile('./grf_covtype.cpk')"
   ]
  },
  {
   "cell_type": "code",
   "execution_count": 190,
   "metadata": {
    "collapsed": false
   },
   "outputs": [],
   "source": [
    "pi = Y2.sum() / Y2.shape[0]\n",
    "sparse1 = True\n",
    "sparse2 = False\n",
    "verbose = True\n",
    "alpha = 0.0\n",
    "\n",
    "prms1 = ASI.Parameters(pi=pi, sparse=sparse1, verbose=verbose)\n",
    "prms2 = ASI.Parameters(pi=pi, sparse=sparse2, verbose=verbose, alpha=alpha)\n",
    "\n",
    "wnprms1 = ASI.WNParameters(normalize=True, sparse=sparse1, verbose=verbose)\n",
    "wnprms2 = ASI.WNParameters(normalize=True, sparse=sparse2, verbose=verbose)"
   ]
  },
  {
   "cell_type": "code",
   "execution_count": 202,
   "metadata": {
    "collapsed": true
   },
   "outputs": [],
   "source": [
    "kAS1 = ASI.linearizedAS(prms2)\n",
    "kAS2 = ASI.linearizedAS(prms2)\n",
    "wnAS1 = ASI.weightedNeighborAS(wnprms2)\n",
    "wnAS2 = ASI.weightedNeighborAS(wnprms2)"
   ]
  },
  {
   "cell_type": "code",
   "execution_count": 203,
   "metadata": {
    "collapsed": false
   },
   "outputs": [],
   "source": [
    "np_init = 1\n",
    "nn_init = 0\n",
    "Ynz = Y2.nonzero()[0]\n",
    "Yz = (Y2==0).nonzero()[0]\n",
    "initp_pt = Ynz[nr.choice(len(Ynz), np_init, replace=False)]\n",
    "initn_pt = Yz[nr.choice(len(Yz), nn_init, replace=False)]\n",
    "n_init = np_init + nn_init\n",
    "\n",
    "init_labels = {p:1 for p in initp_pt}\n",
    "init_labels.update({p:0 for p in initn_pt})\n",
    "# init_labels.update({390748:0})"
   ]
  },
  {
   "cell_type": "code",
   "execution_count": 204,
   "metadata": {
    "collapsed": false
   },
   "outputs": [
    {
     "name": "stdout",
     "output_type": "stream",
     "text": [
      "Constructing C\n",
      "Time for constructing C: 3.78883099556\n",
      "Inverting C\n",
      "Time for inverse: 0.554513931274\n",
      "Done with the initialization.\n",
      "Done with the initialization.\n"
     ]
    }
   ],
   "source": [
    "kAS1.initialize(RX2, init_labels)\n",
    "# kAS2.initialize(RX3, init_labels)\n",
    "wnAS1.initialize(RX2, init_labels)\n",
    "# wnAS2.initialize(RX3, init_labels)"
   ]
  },
  {
   "cell_type": "code",
   "execution_count": 205,
   "metadata": {
    "collapsed": false
   },
   "outputs": [
    {
     "name": "stdout",
     "output_type": "stream",
     "text": [
      "(2, 0)\n",
      "0.130230903625\n"
     ]
    }
   ],
   "source": [
    "t1 = time.time()\n",
    "next_inds1 = [kAS1.unlabeled_idxs[idx] for idx in (-kAS1.f[kAS1.unlabeled_idxs]).argsort()[:100]]\n",
    "# next_inds2 = [kAS2.unlabeled_idxs[idx] for idx in (-kAS2.f[kAS2.unlabeled_idxs]).argsort()[:100]]\n",
    "next_inds2 = [wnAS1.unlabeled_idxs[idx] for idx in (-wnAS1.f).argsort()[:100]]\n",
    "print(Y2[next_inds1].sum(), Y2[next_inds2].sum())\n",
    "print(time.time() - t1)"
   ]
  },
  {
   "cell_type": "code",
   "execution_count": 206,
   "metadata": {
    "collapsed": false
   },
   "outputs": [
    {
     "name": "stdout",
     "output_type": "stream",
     "text": [
      "Iter: 1, Selected: 259847, Hits: 1, Time: 0.401110\n",
      "NNAS -- Iter: 1, Selected: 0, Hits: 1, Time: 4.246028\n",
      "\n",
      "Iter: 2, Selected: 3893, Hits: 2, Time: 0.347102\n",
      "NNAS -- Iter: 2, Selected: 208517, Hits: 1, Time: 4.097563\n",
      "\n",
      "Iter: 3, Selected: 247710, Hits: 2, Time: 0.332449\n",
      "NNAS -- Iter: 3, Selected: 280005, Hits: 1, Time: 3.882671\n",
      "\n",
      "Iter: 4, Selected: 10807, Hits: 2, Time: 0.345297\n",
      "NNAS -- Iter: 4, Selected: 362662, Hits: 1, Time: 4.739290\n",
      "\n",
      "Iter: 5, Selected: 260558, Hits: 2, Time: 0.383065\n",
      "NNAS -- Iter: 5, Selected: 270695, Hits: 2, Time: 4.108474\n",
      "\n",
      "Iter: 6, Selected: 12512, Hits: 3, Time: 0.341536\n",
      "NNAS -- Iter: 6, Selected: 269174, Hits: 3, Time: 3.767402\n",
      "\n",
      "Iter: 7, Selected: 268640, Hits: 4, Time: 0.348572\n",
      "NNAS -- Iter: 7, Selected: 12613, Hits: 4, Time: 3.811460\n",
      "\n",
      "Iter: 8, Selected: 51466, Hits: 4, Time: 0.340144\n",
      "NNAS -- Iter: 8, Selected: 4019, Hits: 5, Time: 3.872273\n",
      "\n",
      "Iter: 9, Selected: 3500, Hits: 5, Time: 0.324390\n",
      "NNAS -- Iter: 9, Selected: 3575, Hits: 6, Time: 4.243873\n",
      "\n",
      "Iter: 10, Selected: 261667, Hits: 6, Time: 0.340058\n",
      "NNAS -- Iter: 10, Selected: 299518, Hits: 6, Time: 3.933345\n",
      "\n",
      "Iter: 11, Selected: 575427, Hits: 6, Time: 0.366782\n",
      "NNAS -- Iter: 11, Selected: 2976, Hits: 7, Time: 4.331803\n",
      "\n",
      "Iter: 12, Selected: 268634, Hits: 7, Time: 0.342233\n",
      "NNAS -- Iter: 12, Selected: 4703, Hits: 8, Time: 4.049368\n",
      "\n",
      "Iter: 13, Selected: 2694, Hits: 8, Time: 0.361520\n",
      "NNAS -- Iter: 13, Selected: 4892, Hits: 9, Time: 3.971102\n",
      "\n",
      "Iter: 14, Selected: 12045, Hits: 9, Time: 0.329457\n",
      "NNAS -- Iter: 14, Selected: 4704, Hits: 10, Time: 4.412957\n",
      "\n",
      "Iter: 15, Selected: 1997, Hits: 10, Time: 0.315249\n",
      "NNAS -- Iter: 15, Selected: 4617, Hits: 11, Time: 4.257166\n",
      "\n",
      "Iter: 16, Selected: 242050, Hits: 10, Time: 0.393610\n",
      "NNAS -- Iter: 16, Selected: 4749, Hits: 12, Time: 4.423055\n",
      "\n",
      "Iter: 17, Selected: 258929, Hits: 10, Time: 0.360733\n",
      "NNAS -- Iter: 17, Selected: 277334, Hits: 12, Time: 4.518922\n",
      "\n",
      "Iter: 18, Selected: 3234, Hits: 11, Time: 0.308862\n",
      "NNAS -- Iter: 18, Selected: 4128, Hits: 13, Time: 4.747849\n",
      "\n",
      "Iter: 19, Selected: 260560, Hits: 11, Time: 0.297958\n",
      "NNAS -- Iter: 19, Selected: 270637, Hits: 14, Time: 4.377964\n",
      "\n",
      "Iter: 20, Selected: 273900, Hits: 11, Time: 0.361150\n",
      "NNAS -- Iter: 20, Selected: 12723, Hits: 14, Time: 4.930944\n",
      "\n",
      "Iter: 21, Selected: 3640, Hits: 12, Time: 0.307343\n",
      "NNAS -- Iter: 21, Selected: 12875, Hits: 15, Time: 5.059140\n",
      "\n",
      "Iter: 22, Selected: 4364, Hits: 13, Time: 0.403829\n",
      "NNAS -- Iter: 22, Selected: 270196, Hits: 15, Time: 4.716442\n",
      "\n",
      "Iter: 23, Selected: 4255, Hits: 14, Time: 0.365851\n",
      "NNAS -- Iter: 23, Selected: 267708, Hits: 15, Time: 4.449407\n",
      "\n",
      "Iter: 24, Selected: 270757, Hits: 15, Time: 0.346234\n",
      "NNAS -- Iter: 24, Selected: 287658, Hits: 15, Time: 4.651084\n",
      "\n",
      "Iter: 25, Selected: 269232, Hits: 16, Time: 0.420767\n",
      "NNAS -- Iter: 25, Selected: 3969, Hits: 16, Time: 4.475607\n",
      "\n",
      "Iter: 26, Selected: 284688, Hits: 16, Time: 0.431997\n",
      "NNAS -- Iter: 26, Selected: 269591, Hits: 16, Time: 4.066841\n",
      "\n",
      "Iter: 27, Selected: 3322, Hits: 17, Time: 0.363098\n",
      "NNAS -- Iter: 27, Selected: 277332, Hits: 17, Time: 4.252093\n",
      "\n",
      "Iter: 28, Selected: 247140, Hits: 18, Time: 0.358911\n",
      "NNAS -- Iter: 28, Selected: 5349, Hits: 18, Time: 3.878596\n",
      "\n",
      "Iter: 29, Selected: 247675, Hits: 18, Time: 0.359887\n",
      "NNAS -- Iter: 29, Selected: 294904, Hits: 18, Time: 3.882823\n",
      "\n",
      "Iter: 30, Selected: 247672, Hits: 18, Time: 0.323638\n",
      "NNAS -- Iter: 30, Selected: 12897, Hits: 19, Time: 3.761608\n",
      "\n",
      "Iter: 31, Selected: 273335, Hits: 18, Time: 0.345387\n",
      "NNAS -- Iter: 31, Selected: 4801, Hits: 20, Time: 3.783410\n",
      "\n",
      "Iter: 32, Selected: 262623, Hits: 18, Time: 0.316473\n",
      "NNAS -- Iter: 32, Selected: 277916, Hits: 20, Time: 3.700543\n",
      "\n",
      "Iter: 33, Selected: 268635, Hits: 19, Time: 0.334645\n",
      "NNAS -- Iter: 33, Selected: 12762, Hits: 21, Time: 3.716648\n",
      "\n",
      "Iter: 34, Selected: 3649, Hits: 20, Time: 0.329513\n",
      "NNAS -- Iter: 34, Selected: 278507, Hits: 21, Time: 3.827095\n",
      "\n",
      "Iter: 35, Selected: 265422, Hits: 21, Time: 0.334695\n",
      "NNAS -- Iter: 35, Selected: 2999, Hits: 22, Time: 3.706855\n",
      "\n",
      "Iter: 36, Selected: 3862, Hits: 22, Time: 0.327393\n",
      "NNAS -- Iter: 36, Selected: 4841, Hits: 23, Time: 3.756113\n",
      "\n",
      "Iter: 37, Selected: 3899, Hits: 23, Time: 0.313980\n",
      "NNAS -- Iter: 37, Selected: 4800, Hits: 24, Time: 3.735095\n",
      "\n",
      "Iter: 38, Selected: 383060, Hits: 23, Time: 0.359090\n",
      "NNAS -- Iter: 38, Selected: 4850, Hits: 25, Time: 3.782769\n",
      "\n",
      "Iter: 39, Selected: 12573, Hits: 24, Time: 0.337499\n",
      "NNAS -- Iter: 39, Selected: 279073, Hits: 25, Time: 3.864787\n",
      "\n",
      "Iter: 40, Selected: 3863, Hits: 25, Time: 0.313569\n",
      "NNAS -- Iter: 40, Selected: 3846, Hits: 26, Time: 3.822031\n",
      "\n",
      "Iter: 41, Selected: 12637, Hits: 26, Time: 0.352207\n",
      "NNAS -- Iter: 41, Selected: 269696, Hits: 26, Time: 3.744293\n",
      "\n",
      "Iter: 42, Selected: 409054, Hits: 26, Time: 0.321881\n",
      "NNAS -- Iter: 42, Selected: 270638, Hits: 27, Time: 3.806933\n",
      "\n",
      "Iter: 43, Selected: 264992, Hits: 27, Time: 0.350906\n",
      "NNAS -- Iter: 43, Selected: 4169, Hits: 28, Time: 3.858866\n",
      "\n",
      "Iter: 44, Selected: 270146, Hits: 27, Time: 0.332950\n",
      "NNAS -- Iter: 44, Selected: 269735, Hits: 28, Time: 3.817578\n",
      "\n",
      "Iter: 45, Selected: 264993, Hits: 28, Time: 0.331393\n",
      "NNAS -- Iter: 45, Selected: 5114, Hits: 29, Time: 3.804615\n",
      "\n",
      "Iter: 46, Selected: 12513, Hits: 29, Time: 0.314687\n",
      "NNAS -- Iter: 46, Selected: 3121, Hits: 30, Time: 3.864505\n",
      "\n",
      "Iter: 47, Selected: 5257, Hits: 30, Time: 0.340473\n",
      "NNAS -- Iter: 47, Selected: 259532, Hits: 31, Time: 3.858735\n",
      "\n",
      "Iter: 48, Selected: 13128, Hits: 31, Time: 0.356307\n",
      "NNAS -- Iter: 48, Selected: 12434, Hits: 32, Time: 3.887077\n",
      "\n",
      "Iter: 49, Selected: 360906, Hits: 31, Time: 0.329221\n",
      "NNAS -- Iter: 49, Selected: 5009, Hits: 33, Time: 3.918825\n",
      "\n",
      "Iter: 50, Selected: 3694, Hits: 32, Time: 0.309621\n",
      "NNAS -- Iter: 50, Selected: 286404, Hits: 34, Time: 3.886284\n",
      "\n",
      "Iter: 51, Selected: 3722, Hits: 33, Time: 0.308797\n",
      "NNAS -- Iter: 51, Selected: 357911, Hits: 34, Time: 3.881605\n",
      "\n",
      "Iter: 52, Selected: 267655, Hits: 34, Time: 0.316928\n",
      "NNAS -- Iter: 52, Selected: 13096, Hits: 35, Time: 3.860381\n",
      "\n",
      "Iter: 53, Selected: 12591, Hits: 35, Time: 0.324658\n",
      "NNAS -- Iter: 53, Selected: 293506, Hits: 35, Time: 4.019636\n",
      "\n",
      "Iter: 54, Selected: 12663, Hits: 36, Time: 0.326581\n",
      "NNAS -- Iter: 54, Selected: 288234, Hits: 35, Time: 4.421473\n",
      "\n",
      "Iter: 55, Selected: 3900, Hits: 37, Time: 0.311416\n"
     ]
    },
    {
     "ename": "KeyboardInterrupt",
     "evalue": "",
     "output_type": "error",
     "traceback": [
      "\u001b[0;31m---------------------------------------------------------------------------\u001b[0m",
      "\u001b[0;31mKeyboardInterrupt\u001b[0m                         Traceback (most recent call last)",
      "\u001b[0;32m<ipython-input-206-0b7050aae067>\u001b[0m in \u001b[0;36m<module>\u001b[0;34m()\u001b[0m\n\u001b[1;32m     14\u001b[0m \u001b[0;34m\u001b[0m\u001b[0m\n\u001b[1;32m     15\u001b[0m     \u001b[0midx3\u001b[0m \u001b[0;34m=\u001b[0m \u001b[0mwnAS1\u001b[0m\u001b[0;34m.\u001b[0m\u001b[0mgetNextMessage\u001b[0m\u001b[0;34m(\u001b[0m\u001b[0;34m)\u001b[0m\u001b[0;34m\u001b[0m\u001b[0m\n\u001b[0;32m---> 16\u001b[0;31m     \u001b[0mwnAS1\u001b[0m\u001b[0;34m.\u001b[0m\u001b[0msetLabelCurrent\u001b[0m\u001b[0;34m(\u001b[0m\u001b[0mY2\u001b[0m\u001b[0;34m[\u001b[0m\u001b[0midx3\u001b[0m\u001b[0;34m]\u001b[0m\u001b[0;34m)\u001b[0m\u001b[0;34m\u001b[0m\u001b[0m\n\u001b[0m\u001b[1;32m     17\u001b[0m     \u001b[0mhits3\u001b[0m\u001b[0;34m.\u001b[0m\u001b[0mappend\u001b[0m\u001b[0;34m(\u001b[0m\u001b[0mhits3\u001b[0m\u001b[0;34m[\u001b[0m\u001b[0;34m-\u001b[0m\u001b[0;36m1\u001b[0m\u001b[0;34m]\u001b[0m\u001b[0;34m+\u001b[0m\u001b[0mY2\u001b[0m\u001b[0;34m[\u001b[0m\u001b[0midx3\u001b[0m\u001b[0;34m]\u001b[0m\u001b[0;34m)\u001b[0m\u001b[0;34m\u001b[0m\u001b[0m\n\u001b[1;32m     18\u001b[0m \u001b[0;34m\u001b[0m\u001b[0m\n",
      "\u001b[0;32m/home/scratch/sibiv/ActiveSearch/python/activeSearchInterface.pyc\u001b[0m in \u001b[0;36msetLabelCurrent\u001b[0;34m(self, value)\u001b[0m\n\u001b[1;32m    117\u001b[0m     \u001b[0;32mif\u001b[0m \u001b[0;32mnot\u001b[0m \u001b[0mself\u001b[0m\u001b[0;34m.\u001b[0m\u001b[0mseen_next\u001b[0m\u001b[0;34m:\u001b[0m\u001b[0;34m\u001b[0m\u001b[0m\n\u001b[1;32m    118\u001b[0m       \u001b[0;32mraise\u001b[0m \u001b[0mException\u001b[0m \u001b[0;34m(\u001b[0m\u001b[0;34m\"This message has not been requested/seen yet.\"\u001b[0m\u001b[0;34m)\u001b[0m\u001b[0;34m\u001b[0m\u001b[0m\n\u001b[0;32m--> 119\u001b[0;31m     \u001b[0mself\u001b[0m\u001b[0;34m.\u001b[0m\u001b[0msetLabel\u001b[0m\u001b[0;34m(\u001b[0m\u001b[0mself\u001b[0m\u001b[0;34m.\u001b[0m\u001b[0mnext_message\u001b[0m\u001b[0;34m,\u001b[0m \u001b[0mvalue\u001b[0m\u001b[0;34m)\u001b[0m\u001b[0;34m\u001b[0m\u001b[0m\n\u001b[0m\u001b[1;32m    120\u001b[0m \u001b[0;34m\u001b[0m\u001b[0m\n\u001b[1;32m    121\u001b[0m   \u001b[0;32mdef\u001b[0m \u001b[0mgetNextMessage\u001b[0m \u001b[0;34m(\u001b[0m\u001b[0mself\u001b[0m\u001b[0;34m)\u001b[0m\u001b[0;34m:\u001b[0m\u001b[0;34m\u001b[0m\u001b[0m\n",
      "\u001b[0;32m/home/scratch/sibiv/ActiveSearch/python/activeSearchInterface.pyc\u001b[0m in \u001b[0;36msetLabel\u001b[0;34m(self, idx, lbl, display_iter)\u001b[0m\n\u001b[1;32m    563\u001b[0m     \u001b[0;31m# Updating various parameters to calculate f\u001b[0m\u001b[0;34m\u001b[0m\u001b[0;34m\u001b[0m\u001b[0m\n\u001b[1;32m    564\u001b[0m     \u001b[0mXi\u001b[0m \u001b[0;34m=\u001b[0m \u001b[0mself\u001b[0m\u001b[0;34m.\u001b[0m\u001b[0mXf\u001b[0m\u001b[0;34m[\u001b[0m\u001b[0;34m:\u001b[0m\u001b[0;34m,\u001b[0m\u001b[0;34m[\u001b[0m\u001b[0midx\u001b[0m\u001b[0;34m]\u001b[0m\u001b[0;34m]\u001b[0m \u001b[0;31m# ith feature vector\u001b[0m\u001b[0;34m\u001b[0m\u001b[0m\n\u001b[0;32m--> 565\u001b[0;31m     \u001b[0mSif\u001b[0m \u001b[0;34m=\u001b[0m \u001b[0mself\u001b[0m\u001b[0;34m.\u001b[0m\u001b[0mXf\u001b[0m\u001b[0;34m[\u001b[0m\u001b[0;34m:\u001b[0m\u001b[0;34m,\u001b[0m \u001b[0mself\u001b[0m\u001b[0;34m.\u001b[0m\u001b[0munlabeled_idxs\u001b[0m\u001b[0;34m]\u001b[0m\u001b[0;34m.\u001b[0m\u001b[0mT\u001b[0m\u001b[0;34m.\u001b[0m\u001b[0mdot\u001b[0m\u001b[0;34m(\u001b[0m\u001b[0mXi\u001b[0m\u001b[0;34m)\u001b[0m\u001b[0;34m\u001b[0m\u001b[0m\n\u001b[0m\u001b[1;32m    566\u001b[0m     \u001b[0;32mif\u001b[0m \u001b[0mself\u001b[0m\u001b[0;34m.\u001b[0m\u001b[0mparams\u001b[0m\u001b[0;34m.\u001b[0m\u001b[0msparse\u001b[0m\u001b[0;34m:\u001b[0m\u001b[0;34m\u001b[0m\u001b[0m\n\u001b[1;32m    567\u001b[0m       \u001b[0mSif\u001b[0m \u001b[0;34m=\u001b[0m \u001b[0mmatrix_squeeze\u001b[0m\u001b[0;34m(\u001b[0m\u001b[0mSif\u001b[0m\u001b[0;34m.\u001b[0m\u001b[0mtodense\u001b[0m\u001b[0;34m(\u001b[0m\u001b[0;34m)\u001b[0m\u001b[0;34m)\u001b[0m\u001b[0;34m\u001b[0m\u001b[0m\n",
      "\u001b[0;31mKeyboardInterrupt\u001b[0m: "
     ]
    }
   ],
   "source": [
    "hits1 = [n_init]\n",
    "hits2 = [n_init]\n",
    "hits3 = [n_init]\n",
    "hits4 = [n_init]\n",
    "K = 100\n",
    "for _ in range(K):\n",
    "    idx1 = kAS1.getNextMessage()\n",
    "    kAS1.setLabelCurrent(Y2[idx1])\n",
    "    hits1.append(hits1[-1]+Y2[idx1])\n",
    "    \n",
    "#     idx2 = kAS2.getNextMessage()\n",
    "#     kAS2.setLabelCurrent(Y2[idx2])\n",
    "#     hits2.append(hits2[-1]+Y2[idx2])\n",
    "\n",
    "    idx3 = wnAS1.getNextMessage()\n",
    "    wnAS1.setLabelCurrent(Y2[idx3])\n",
    "    hits3.append(hits3[-1]+Y2[idx3])\n",
    "    \n",
    "#     idx4 = wnAS2.getNextMessage()\n",
    "#     wnAS2.setLabelCurrent(Y2[idx4])\n",
    "#     hits4.append(hits4[-1]+Y2[idx4])\n",
    "    print('')"
   ]
  },
  {
   "cell_type": "code",
   "execution_count": 98,
   "metadata": {
    "collapsed": false
   },
   "outputs": [
    {
     "name": "stdout",
     "output_type": "stream",
     "text": [
      "(0, 58)\n"
     ]
    }
   ],
   "source": [
    "next_inds1 = [kAS2.unlabeled_idxs[idx] for idx in (-kAS2.f[kAS2.unlabeled_idxs]).argsort()[:100]]\n",
    "next_inds2 = [wnAS2.unlabeled_idxs[idx] for idx in (-wnAS2.f).argsort()[:100]]\n",
    "print(Y2[next_inds1].sum(), Y2[next_inds2].sum())"
   ]
  },
  {
   "cell_type": "code",
   "execution_count": 392,
   "metadata": {
    "collapsed": false
   },
   "outputs": [],
   "source": [
    "GRF = reload(GRF)"
   ]
  },
  {
   "cell_type": "code",
   "execution_count": 415,
   "metadata": {
    "collapsed": true
   },
   "outputs": [],
   "source": [
    "du = reload(du)"
   ]
  },
  {
   "cell_type": "code",
   "execution_count": 97,
   "metadata": {
    "collapsed": false
   },
   "outputs": [
    {
     "data": {
      "text/plain": [
       "0.0047279574260084131"
      ]
     },
     "execution_count": 97,
     "metadata": {},
     "output_type": "execute_result"
    }
   ],
   "source": [
    "pi"
   ]
  },
  {
   "cell_type": "code",
   "execution_count": 515,
   "metadata": {
    "collapsed": false
   },
   "outputs": [],
   "source": [
    "rfc2 = GRF.GaussianRandomFeatures(fl='./grf.cpk')"
   ]
  },
  {
   "cell_type": "code",
   "execution_count": 516,
   "metadata": {
    "collapsed": false
   },
   "outputs": [
    {
     "name": "stdout",
     "output_type": "stream",
     "text": [
      "16.1215000153\n"
     ]
    }
   ],
   "source": [
    "t1 = time.time()\n",
    "RX4 = rfc2.computeRandomFeatures(X2.T).T\n",
    "print(time.time() - t1)"
   ]
  },
  {
   "cell_type": "code",
   "execution_count": 517,
   "metadata": {
    "collapsed": false
   },
   "outputs": [
    {
     "data": {
      "text/plain": [
       "True"
      ]
     },
     "execution_count": 517,
     "metadata": {},
     "output_type": "execute_result"
    }
   ],
   "source": [
    "np.allclose(RX3, RX4)"
   ]
  }
 ],
 "metadata": {
  "kernelspec": {
   "display_name": "Python 2",
   "language": "python",
   "name": "python2"
  },
  "language_info": {
   "codemirror_mode": {
    "name": "ipython",
    "version": 2
   },
   "file_extension": ".py",
   "mimetype": "text/x-python",
   "name": "python",
   "nbconvert_exporter": "python",
   "pygments_lexer": "ipython2",
   "version": "2.7.5"
  }
 },
 "nbformat": 4,
 "nbformat_minor": 1
}
